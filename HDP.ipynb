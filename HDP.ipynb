{
  "nbformat": 4,
  "nbformat_minor": 0,
  "metadata": {
    "orig_nbformat": 4,
    "language_info": {
      "name": "python",
      "version": "3.7.11",
      "mimetype": "text/x-python",
      "codemirror_mode": {
        "name": "ipython",
        "version": 3
      },
      "pygments_lexer": "ipython3",
      "nbconvert_exporter": "python",
      "file_extension": ".py"
    },
    "kernelspec": {
      "name": "python3",
      "display_name": "Python 3.7.11 64-bit ('myenv': conda)"
    },
    "interpreter": {
      "hash": "daf4a1b1405a28ef5c2b7c435bfacbb2c9b595c17d76bdd22c122b01096a5fad"
    },
    "colab": {
      "name": "HDP.ipynb",
      "provenance": [],
      "collapsed_sections": [],
      "include_colab_link": true
    }
  },
  "cells": [
    {
      "cell_type": "markdown",
      "metadata": {
        "id": "view-in-github",
        "colab_type": "text"
      },
      "source": [
        "<a href=\"https://colab.research.google.com/github/Divya-Swaroopini/BasicHeartDiseasePrediction/blob/main/HDP.ipynb\" target=\"_parent\"><img src=\"https://colab.research.google.com/assets/colab-badge.svg\" alt=\"Open In Colab\"/></a>"
      ]
    },
    {
      "cell_type": "code",
      "metadata": {
        "id": "rX3T6v73noXD"
      },
      "source": [
        "#For Analyzing the dataset\n",
        "import numpy as np\n",
        "import pandas as pd\n",
        "\n",
        "#For visualizing the dataset\n",
        "import matplotlib.pyplot as plt\n",
        "import seaborn as sns"
      ],
      "execution_count": 2,
      "outputs": []
    },
    {
      "cell_type": "code",
      "metadata": {
        "id": "wWzrUHQgnt1e"
      },
      "source": [
        ""
      ],
      "execution_count": null,
      "outputs": []
    },
    {
      "cell_type": "code",
      "metadata": {
        "id": "D3UW6Sj8noXP",
        "colab": {
          "base_uri": "https://localhost:8080/"
        },
        "outputId": "051c0ba7-d9b5-4da2-ca42-7b145b9b504f"
      },
      "source": [
        "df = pd.read_csv('https://raw.githubusercontent.com/Divya-Swaroopini/BasicHeartDiseasePrediction/main/heart.csv')\n",
        "df = pd.DataFrame(df)\n",
        "print(df.shape)\n",
        "df.info()\n",
        "df.condition.value_counts()\n",
        "#So we have 14 attributes and about 300 rows of data"
      ],
      "execution_count": 3,
      "outputs": [
        {
          "output_type": "stream",
          "name": "stdout",
          "text": [
            "(303, 14)\n",
            "<class 'pandas.core.frame.DataFrame'>\n",
            "RangeIndex: 303 entries, 0 to 302\n",
            "Data columns (total 14 columns):\n",
            " #   Column     Non-Null Count  Dtype  \n",
            "---  ------     --------------  -----  \n",
            " 0   age        303 non-null    int64  \n",
            " 1   sex        303 non-null    int64  \n",
            " 2   cp         303 non-null    int64  \n",
            " 3   trestbps   303 non-null    int64  \n",
            " 4   chol       303 non-null    int64  \n",
            " 5   fbs        303 non-null    int64  \n",
            " 6   restecg    303 non-null    int64  \n",
            " 7   thalach    303 non-null    int64  \n",
            " 8   exang      303 non-null    int64  \n",
            " 9   oldpeak    303 non-null    float64\n",
            " 10  slope      303 non-null    int64  \n",
            " 11  ca         303 non-null    int64  \n",
            " 12  thal       303 non-null    int64  \n",
            " 13  condition  303 non-null    int64  \n",
            "dtypes: float64(1), int64(13)\n",
            "memory usage: 33.3 KB\n"
          ]
        },
        {
          "output_type": "execute_result",
          "data": {
            "text/plain": [
              "1    165\n",
              "0    138\n",
              "Name: condition, dtype: int64"
            ]
          },
          "metadata": {},
          "execution_count": 3
        }
      ]
    },
    {
      "cell_type": "code",
      "metadata": {
        "id": "I2PEzgKWnoXU",
        "colab": {
          "base_uri": "https://localhost:8080/"
        },
        "outputId": "436ebb9d-79a4-4de9-80f6-31aab940d335"
      },
      "source": [
        "#Data Preprocessing / Cleaning\n",
        "\n",
        "duplicates = df[df.duplicated()]\n",
        "print(\"Number of duplicate rows : \", duplicates.shape)\n",
        "#No Duplicates found\n",
        "\n",
        "print(\"Null values : \",df.isnull().sum())\n",
        "#No Null Values found"
      ],
      "execution_count": 4,
      "outputs": [
        {
          "output_type": "stream",
          "name": "stdout",
          "text": [
            "Number of duplicate rows :  (1, 14)\n",
            "Null values :  age          0\n",
            "sex          0\n",
            "cp           0\n",
            "trestbps     0\n",
            "chol         0\n",
            "fbs          0\n",
            "restecg      0\n",
            "thalach      0\n",
            "exang        0\n",
            "oldpeak      0\n",
            "slope        0\n",
            "ca           0\n",
            "thal         0\n",
            "condition    0\n",
            "dtype: int64\n"
          ]
        }
      ]
    },
    {
      "cell_type": "code",
      "metadata": {
        "id": "2FiR2HQtnoXW"
      },
      "source": [
        "disease = len(df[df['condition'] == 1])\n",
        "no_disease = len(df[df['condition']== 0])"
      ],
      "execution_count": 5,
      "outputs": []
    },
    {
      "cell_type": "code",
      "metadata": {
        "id": "8-dcs8s4noXY",
        "colab": {
          "base_uri": "https://localhost:8080/",
          "height": 427
        },
        "outputId": "424e0408-bf9e-4265-c04d-084e45695470"
      },
      "source": [
        "#Visualizing the Data - The first part of this project includes an analysis of the attributes and their relationship with the condition. \n",
        "#First let us visualize the categorical attributes\n",
        "#How many patients in the given dataset are diagnosed with a heart disease?\n",
        "y = ('Has a heart condition', 'No Heart Problems')\n",
        "y_pos = np.arange(len(y))\n",
        "x = (disease, no_disease)\n",
        "sizes = [disease, no_disease]\n",
        "fig1, ax1 = plt.subplots()\n",
        "ax1.pie(sizes,  labels=('Has a heart condition', 'No heart condition'), shadow=True, colors=('#b1d8b7', '#189ab4'), autopct='%1.1f%%', startangle=90) \n",
        "ax1.axis('equal')  # Equal aspect ratio ensures that pie is drawn as a circle.\n",
        "plt.title('Diagnosis', size=13)\n",
        "plt.show()"
      ],
      "execution_count": 30,
      "outputs": [
        {
          "output_type": "display_data",
          "data": {
            "image/png": "[encoded data removed]",
            "text/plain": [
              "<Figure size 504x504 with 1 Axes>"
            ]
          },
          "metadata": {}
        }
      ]
    },
    {
      "cell_type": "code",
      "metadata": {
        "id": "O-dgsqDunoXZ",
        "colab": {
          "base_uri": "https://localhost:8080/",
          "height": 427
        },
        "outputId": "021e951b-791d-4aa4-8534-aaa9b926e37a"
      },
      "source": [
        "#What is the percentage of male and females effected?\n",
        "countF = len(df[df.sex == 0])\n",
        "countM = len(df[df.sex == 1])\n",
        "\n",
        "y = ('Female', 'Male')\n",
        "y_pos = np.arange(len(y))\n",
        "x = (countF, countM)\n",
        "sizes = [countF, countM]\n",
        "fig2, ax2 = plt.subplots()\n",
        "ax2.pie(sizes, labels=('Female', 'Male'), autopct='%1.1f%%', shadow=True, colors=('#a3ebb1', '#2e8bc0'), startangle=90) \n",
        "ax2.axis('equal')\n",
        "plt.title('Male vs Female', size=13)\n",
        "plt.show()"
      ],
      "execution_count": 28,
      "outputs": [
        {
          "output_type": "display_data",
          "data": {
            "image/png": "[encoded data removed]",
            "text/plain": [
              "<Figure size 504x504 with 1 Axes>"
            ]
          },
          "metadata": {}
        }
      ]
    },
    {
      "cell_type": "code",
      "metadata": {
        "id": "8PG0hOjmnoXa"
      },
      "source": [
        "#TO_DO : Visualize and draw conclusions on each variables effect on heart diseases?\n",
        "#Design pie charts and graphs to represent attribute relationship with the final product."
      ],
      "execution_count": null,
      "outputs": []
    },
    {
      "cell_type": "code",
      "metadata": {
        "id": "vF8t9q5mnoXb",
        "colab": {
          "base_uri": "https://localhost:8080/"
        },
        "outputId": "1f6923d2-061e-408b-b32d-96a884aecd17"
      },
      "source": [
        "#We will split our data. 80% of our data will be train data and 20% of it will be test data.\n",
        "\n",
        "y = df['condition']\n",
        "\n",
        "df = df.drop('condition', axis = 1)\n",
        "\n",
        "print(\"Shape of y: \", y.shape)\n",
        "\n",
        "#drop dummy values\n",
        "df = pd.get_dummies(df, drop_first=True)\n",
        "\n",
        "#\n",
        "x= df\n",
        "print(\"Shape of x: \", x.shape)"
      ],
      "execution_count": 8,
      "outputs": [
        {
          "output_type": "stream",
          "name": "stdout",
          "text": [
            "Shape of y:  (303,)\n",
            "Shape of x:  (303, 13)\n"
          ]
        }
      ]
    },
    {
      "cell_type": "code",
      "metadata": {
        "id": "QZn1vXICnoXc",
        "colab": {
          "base_uri": "https://localhost:8080/"
        },
        "outputId": "529f107f-f4f8-4887-ad59-b91d11c249bd"
      },
      "source": [
        "#Creating the train and test datasets\n",
        "from sklearn.model_selection import train_test_split\n",
        "\n",
        "x_train, x_test, y_train, y_test = train_test_split(x, y, test_size = 0.2, random_state = 0)\n",
        "\n",
        "# getting the shapes\n",
        "print(\"Shape of x_train :\", x_train.shape)\n",
        "print(\"Shape of x_test :\", x_test.shape)\n",
        "print(\"Shape of y_train :\", y_train.shape)\n",
        "print(\"Shape of y_test :\", y_test.shape)"
      ],
      "execution_count": 9,
      "outputs": [
        {
          "output_type": "stream",
          "name": "stdout",
          "text": [
            "Shape of x_train : (242, 13)\n",
            "Shape of x_test : (61, 13)\n",
            "Shape of y_train : (242,)\n",
            "Shape of y_test : (61,)\n"
          ]
        }
      ]
    },
    {
      "cell_type": "code",
      "metadata": {
        "id": "F2jjQ-rbnoXe"
      },
      "source": [
        "#Random Forest Classifier Algorithm\n",
        "'''Why Random Forest?\n",
        "-> This algorithm considers diffirent combinations of the attributes to analyze the target/ condition\n",
        "-> Random Forest is also a quickly implementable supervised learning model\n",
        "-> It has a better performance than the other models\n",
        "-> In this specific project, we require to estimate the importance of a certain attribute when determining weather or not the person is going to has a heart condition; \n",
        "Random forest makes measuring the induvidual feature's relative importance easier'''\n",
        "\n",
        "''' How does it work? \n",
        "-> Random forest will built multiple decision trees and merge them together to get a more accurate and stable prediction\n",
        "-> In this scenario, we will be implementing random forest for a classification based problem\n",
        "-> This model will also add aditional randomness to the model while growing the trees\n",
        "\n",
        "The Algorithm works in four steps:\n",
        "\n",
        "1) Select random samples from a given dataset.\n",
        "2) Construct a decision tree for each sample and get a prediction result from each decision tree.\n",
        "3) Perform a vote for each predicted result.\n",
        "4) Select the prediction result with the most votes as the final prediction.'''\n",
        "\n",
        "#import required modules\n",
        "from sklearn.ensemble import RandomForestClassifier\n",
        "#The sklearn. ensemble module includes two averaging algorithms based on randomized decision trees: the RandomForest algorithm and the Extra-Trees method. \n",
        "#The prediction of the ensemble is given as the averaged prediction of the individual classifiers.\n",
        "\n",
        "model = RandomForestClassifier(n_estimators = 50, max_depth = 5)\n",
        "#n-estimators hyperparameter is used to tell the classifier how many trees it can build before taking the average of each prediction\n",
        "#more the trees - better the performance, but it slows down the computation\n",
        "#max_depth represents the depth of each tree in the forest. The deeper the tree, the more splits it has and it captures more information about the data.\n",
        "#the values assigned to the hyperparameters were decided based on review of other similar projects\n",
        "\n",
        "model.fit(x_train, y_train)\n",
        "#Train the model using the training sets x_train and y_train\n",
        "\n",
        "#We can predict the class for new data instances using our finalized classification model in scikit-learn using the predict() function.\n",
        "y_pred = model.predict(x_test)\n",
        "#probability prediction - where given a new instance the model returns the probability for each outcome class as a value between 0 and 1. \n",
        "#This is done using model.predict_proba() to which we are passing are testing data x_test()\n",
        "y_pred_prob = model.predict_proba(x_test)"
      ],
      "execution_count": 19,
      "outputs": []
    },
    {
      "cell_type": "code",
      "metadata": {
        "id": "JSAswbD2noXf",
        "colab": {
          "base_uri": "https://localhost:8080/",
          "height": 671
        },
        "outputId": "82d82af7-a79b-4ee7-fd60-69fd4ee94a01"
      },
      "source": [
        "#evaluating the model's performance\n",
        "\n",
        "print(\"Training Accuracy :\", model.score(x_train, y_train))\n",
        "print(\"Testing Accuracy :\", model.score(x_test, y_test))\n",
        "print(\"\\n\")\n",
        "#here we are first printing the models basic testing and training accuracy scores\n",
        "\n",
        "from sklearn.metrics import confusion_matrix\n",
        "#a confusion matrix, also known as an error matrix, is a specific table layout that allows visualization of the performance of an algorithm, typically a supervised learning one.\n",
        "from sklearn.metrics import classification_report\n",
        "#A Classification report is used to measure the quality of predictions from a classification algorithm. How many predictions are True and how many are False. \n",
        "#More specifically, True Positives, False Positives, True negatives and False Negatives are used to predict the metrics of a classification report.\n",
        "\n",
        "\n",
        "# cofusion matrix - visualizing the results\n",
        "matrix = confusion_matrix(y_test, y_pred)\n",
        "#changing default figure size in matplotlib\n",
        "plt.rcParams['figure.figsize'] = (7, 7)\n",
        "#seaborn provides a way of Plotting rectangular data as a color-encoded matrix, using heatmap.\n",
        "sns.heatmap(matrix, annot = True, annot_kws = {'size':13}, cmap = 'GnBu')\n",
        "#annot: bool or rectangular dataset, if true -> write the data value in each cell\n",
        "#annot_kws: when annot is true, -> proides a dict of key, value mappings\n",
        "#cmap: matplotlib colormap name or object, or list of colors\n",
        "\n",
        "# classification report - documenting the results\n",
        "'''A Classification report is used to measure the quality of predictions from a classification algorithm. How many predictions are True and how many are False. \n",
        "More specifically, True Positives, False Positives, True negatives and False Negatives are used to predict the metrics of a classification report\n",
        "-> Precision is the ability of a classifier not to label an instance positive that is actually negative. Precision = TP/(TP + FP) where, TP – True Positives, FP – False Positives\n",
        "-> Recall is the ability of a classifier to find all positive instances. For each class it is defined as the ratio of true positives to the sum of true positives and false negatives(Recall = TP/(TP+FN))\n",
        "-> The F1 score is a weighted harmonic mean of precision and recall such that the best score is 1.0 and the worst is 0.0. F1 Score = 2*(Recall * Precision) / (Recall + Precision)'''\n",
        "report = classification_report(y_test, y_pred)\n",
        "print(\"Classification Report Results: \\n\", report)"
      ],
      "execution_count": 25,
      "outputs": [
        {
          "output_type": "stream",
          "name": "stdout",
          "text": [
            "Training Accuracy : 0.9338842975206612\n",
            "Testing Accuracy : 0.8360655737704918\n",
            "\n",
            "\n",
            "Classification Report Results: \n",
            "               precision    recall  f1-score   support\n",
            "\n",
            "           0       0.87      0.74      0.80        27\n",
            "           1       0.82      0.91      0.86        34\n",
            "\n",
            "    accuracy                           0.84        61\n",
            "   macro avg       0.84      0.83      0.83        61\n",
            "weighted avg       0.84      0.84      0.83        61\n",
            "\n"
          ]
        },
        {
          "output_type": "display_data",
          "data": {
            "image/png": "[encoded data removed]",
            "text/plain": [
              "<Figure size 504x504 with 2 Axes>"
            ]
          },
          "metadata": {
            "needs_background": "light"
          }
        }
      ]
    }
  ]
}